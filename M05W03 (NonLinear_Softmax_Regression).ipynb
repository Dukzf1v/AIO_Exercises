{
  "cells": [
    {
      "cell_type": "markdown",
      "metadata": {
        "id": "view-in-github",
        "colab_type": "text"
      },
      "source": [
        "<a href=\"https://colab.research.google.com/github/Dukzf1v/AIO_Exercises/blob/main/M05W03%20(NonLinear_Softmax_Regression).ipynb\" target=\"_parent\"><img src=\"https://colab.research.google.com/assets/colab-badge.svg\" alt=\"Open In Colab\"/></a>"
      ]
    },
    {
      "cell_type": "markdown",
      "metadata": {
        "id": "E4sS0PFnr2Nu"
      },
      "source": [
        "## **0. Download dataset**\n",
        "**Note:** If you can't download using gdown due to limited number of downloads, please download it manually and upload it to your drive, then copy it from the drive to colab.\n",
        "```python\n",
        "from google.colab import drive\n",
        "\n",
        "drive.mount('/content/drive')\n",
        "!cp /path/to/dataset/on/your/drive .\n",
        "```"
      ]
    },
    {
      "cell_type": "code",
      "execution_count": null,
      "metadata": {
        "colab": {
          "base_uri": "https://localhost:8080/"
        },
        "id": "EVKQJrh6qhh9",
        "outputId": "ae64fc90-b885-4b87-a464-a0ba434f8452"
      },
      "outputs": [
        {
          "output_type": "stream",
          "name": "stdout",
          "text": [
            "/usr/local/lib/python3.10/dist-packages/gdown/__main__.py:140: FutureWarning: Option `--id` was deprecated in version 4.3.1 and will be removed in 5.0. You don't need to pass it anymore to use a file ID.\n",
            "  warnings.warn(\n",
            "Downloading...\n",
            "From: https://drive.google.com/uc?id=1SqSn_8rxkk-Qvu4JLMcN_3ZFGDNa6P_V\n",
            "To: /content/NonLinear_data.npy\n",
            "100% 5.57k/5.57k [00:00<00:00, 11.7MB/s]\n"
          ]
        }
      ],
      "source": [
        "# https://drive.google.com/file/d/1SqSn_8rxkk-Qvu4JLMcN_3ZFGDNa6P_V/view?usp=sharing\n",
        "!gdown --id 1SqSn_8rxkk-Qvu4JLMcN_3ZFGDNa6P_V"
      ]
    },
    {
      "cell_type": "markdown",
      "source": [
        "## **1. Import libraries**"
      ],
      "metadata": {
        "id": "PUWcf3M7iAk7"
      }
    },
    {
      "cell_type": "code",
      "execution_count": null,
      "metadata": {
        "id": "G3bkvnjeX3Qw"
      },
      "outputs": [],
      "source": [
        "import numpy as np\n",
        "import pandas as pd\n",
        "import matplotlib.pyplot as plt\n",
        "import torch\n",
        "import torch.nn as nn\n",
        "import torch.nn.functional as F\n",
        "from torch.utils.data import Dataset, DataLoader\n",
        "\n",
        "from sklearn.model_selection import train_test_split\n",
        "from sklearn.preprocessing import StandardScaler\n",
        "\n",
        "device = torch.device('cuda:0' if torch.cuda.is_available() else 'cpu')\n",
        "random_state = 59\n",
        "np.random.seed(random_state)\n",
        "torch.manual_seed(random_state)\n",
        "if torch.cuda.is_available():\n",
        "    torch.cuda.manual_seed(random_state)"
      ]
    },
    {
      "cell_type": "markdown",
      "metadata": {
        "id": "YZLOVWxF3CA3"
      },
      "source": [
        "## **2. Read dataset**"
      ]
    },
    {
      "cell_type": "code",
      "execution_count": null,
      "metadata": {
        "id": "mD0-N0bRb9c5"
      },
      "outputs": [],
      "source": [
        "data_path = '/content/NonLinear_data.npy'\n",
        "data = np.load(data_path, allow_pickle=True).item()\n",
        "X, y = data['X'], data['labels']"
      ]
    },
    {
      "cell_type": "markdown",
      "metadata": {
        "id": "eYQgHFPy3M-G"
      },
      "source": [
        "## **3. Train/val/test split**"
      ]
    },
    {
      "cell_type": "code",
      "execution_count": null,
      "metadata": {
        "id": "3KFNxNctYgTY"
      },
      "outputs": [],
      "source": [
        "val_size = 0.2\n",
        "test_size = 0.125\n",
        "is_shuffle = True\n",
        "\n",
        "X_train, X_val, y_train, y_val = train_test_split(\n",
        "    X, y,\n",
        "    test_size=val_size,\n",
        "    random_state=random_state,\n",
        "    shuffle=is_shuffle\n",
        ")\n",
        "\n",
        "X_train, X_test, y_train, y_test = train_test_split(\n",
        "    X_train, y_train,\n",
        "    test_size=test_size,\n",
        "    random_state=random_state,\n",
        "    shuffle=is_shuffle\n",
        ")"
      ]
    },
    {
      "cell_type": "code",
      "source": [
        "print(f'Number of training samples: {X_train.shape[0]}')\n",
        "print(f'Number of val samples: {X_val.shape[0]}')\n",
        "print(f'Number of test samples: {X_test.shape[0]}')"
      ],
      "metadata": {
        "colab": {
          "base_uri": "https://localhost:8080/"
        },
        "id": "g5iEiqW8m5Nl",
        "outputId": "163c9ec3-e50b-49d9-fbc2-2a901380fb65"
      },
      "execution_count": null,
      "outputs": [
        {
          "output_type": "stream",
          "name": "stdout",
          "text": [
            "Number of training samples: 210\n",
            "Number of val samples: 60\n",
            "Number of test samples: 30\n"
          ]
        }
      ]
    },
    {
      "cell_type": "markdown",
      "metadata": {
        "id": "fJwFqmUn3ifv"
      },
      "source": [
        "## **4. Data Normalization**"
      ]
    },
    {
      "cell_type": "code",
      "execution_count": null,
      "metadata": {
        "id": "u5kpBGfVbVUD"
      },
      "outputs": [],
      "source": [
        "normalizer = StandardScaler()\n",
        "X_train = normalizer.fit_transform(X_train)\n",
        "X_val = normalizer.transform(X_val)\n",
        "X_test = normalizer.transform(X_test)"
      ]
    },
    {
      "cell_type": "code",
      "source": [
        "X_train = torch.tensor(X_train, dtype=torch.float32)\n",
        "X_val = torch.tensor(X_val, dtype=torch.float32)\n",
        "X_test = torch.tensor(X_test, dtype=torch.float32)\n",
        "y_train = torch.tensor(y_train, dtype=torch.long)\n",
        "y_val = torch.tensor(y_val, dtype=torch.long)\n",
        "y_test = torch.tensor(y_test, dtype=torch.long)"
      ],
      "metadata": {
        "id": "mAUwcsix5KUk"
      },
      "execution_count": null,
      "outputs": []
    },
    {
      "cell_type": "markdown",
      "source": [
        "## **5. Create PyTorch DataLoader**"
      ],
      "metadata": {
        "id": "NrZ520zomN8e"
      }
    },
    {
      "cell_type": "code",
      "execution_count": null,
      "metadata": {
        "id": "il-wRorLdmTV"
      },
      "outputs": [],
      "source": [
        "class CustomDataset(Dataset):\n",
        "    def __init__(self, X, y):\n",
        "        self.X = X\n",
        "        self.y = y\n",
        "\n",
        "    def __len__(self):\n",
        "        return len(self.y)\n",
        "\n",
        "    def __getitem__(self, idx):\n",
        "        return self.X[idx], self.y[idx]"
      ]
    },
    {
      "cell_type": "code",
      "execution_count": null,
      "metadata": {
        "id": "_6uBR0ordqXJ"
      },
      "outputs": [],
      "source": [
        "batch_size = 32\n",
        "train_dataset = CustomDataset(X_train, y_train)\n",
        "val_dataset = CustomDataset(X_val, y_val)\n",
        "test_dataset = CustomDataset(X_test, y_test)\n",
        "train_loader = DataLoader(train_dataset,\n",
        "                          batch_size=batch_size,\n",
        "                          shuffle=True)\n",
        "val_loader = DataLoader(val_dataset,\n",
        "                        batch_size=batch_size,\n",
        "                        shuffle=False)\n",
        "test_loader = DataLoader(test_dataset,\n",
        "                         batch_size=batch_size,\n",
        "                         shuffle=False)"
      ]
    },
    {
      "cell_type": "markdown",
      "source": [
        "## **6. Build MLP network**"
      ],
      "metadata": {
        "id": "qT1Fm6YgoCRZ"
      }
    },
    {
      "cell_type": "code",
      "execution_count": null,
      "metadata": {
        "id": "Co98aXfydtz0"
      },
      "outputs": [],
      "source": [
        "class MLP(nn.Module):\n",
        "    def __init__(self, input_dims, output_dims):\n",
        "        super(MLP, self).__init__()\n",
        "        self.output = nn.Linear(input_dims, output_dims)\n",
        "\n",
        "    def forward(self, x):\n",
        "        out = self.output(x)\n",
        "        return out.squeeze(1)"
      ]
    },
    {
      "cell_type": "code",
      "source": [
        "input_dims = X_train.shape[1]\n",
        "output_dims = torch.unique(y_train).shape[0]\n",
        "lr = 1e-1\n",
        "\n",
        "model = MLP(input_dims=input_dims,\n",
        "            output_dims=output_dims).to(device)\n",
        "criterion = nn.CrossEntropyLoss()\n",
        "optimizer = torch.optim.SGD(model.parameters(), lr=lr)"
      ],
      "metadata": {
        "id": "8qk733yOoN97"
      },
      "execution_count": null,
      "outputs": []
    },
    {
      "cell_type": "markdown",
      "metadata": {
        "id": "oJzhhPUn4zy8"
      },
      "source": [
        "## **7. Training**"
      ]
    },
    {
      "cell_type": "code",
      "execution_count": null,
      "metadata": {
        "id": "kY1rB1usfEUc"
      },
      "outputs": [],
      "source": [
        "def compute_accuracy(y_hat, y_true):\n",
        "    _, y_hat = torch.max(y_hat, dim=1)\n",
        "    correct = (y_hat == y_true).sum().item()\n",
        "    accuracy = correct / len(y_true)\n",
        "    return accuracy"
      ]
    },
    {
      "cell_type": "code",
      "execution_count": null,
      "metadata": {
        "colab": {
          "base_uri": "https://localhost:8080/"
        },
        "id": "4krCCYspfI4W",
        "outputId": "e29b3414-84b6-4c3f-c145-769fe9a00e81"
      },
      "outputs": [
        {
          "output_type": "stream",
          "name": "stdout",
          "text": [
            "\n",
            "EPOCH 1:\tTraining loss: 1.555\tValidation loss: 1.331\n",
            "\n",
            "EPOCH 2:\tTraining loss: 1.264\tValidation loss: 1.144\n",
            "\n",
            "EPOCH 3:\tTraining loss: 1.090\tValidation loss: 1.036\n",
            "\n",
            "EPOCH 4:\tTraining loss: 0.976\tValidation loss: 0.969\n",
            "\n",
            "EPOCH 5:\tTraining loss: 0.911\tValidation loss: 0.930\n",
            "\n",
            "EPOCH 6:\tTraining loss: 0.860\tValidation loss: 0.904\n",
            "\n",
            "EPOCH 7:\tTraining loss: 0.831\tValidation loss: 0.886\n",
            "\n",
            "EPOCH 8:\tTraining loss: 0.804\tValidation loss: 0.875\n",
            "\n",
            "EPOCH 9:\tTraining loss: 0.793\tValidation loss: 0.866\n",
            "\n",
            "EPOCH 10:\tTraining loss: 0.772\tValidation loss: 0.860\n",
            "\n",
            "EPOCH 11:\tTraining loss: 0.774\tValidation loss: 0.856\n",
            "\n",
            "EPOCH 12:\tTraining loss: 0.766\tValidation loss: 0.854\n",
            "\n",
            "EPOCH 13:\tTraining loss: 0.765\tValidation loss: 0.853\n",
            "\n",
            "EPOCH 14:\tTraining loss: 0.746\tValidation loss: 0.850\n",
            "\n",
            "EPOCH 15:\tTraining loss: 0.742\tValidation loss: 0.850\n",
            "\n",
            "EPOCH 16:\tTraining loss: 0.738\tValidation loss: 0.850\n",
            "\n",
            "EPOCH 17:\tTraining loss: 0.747\tValidation loss: 0.850\n",
            "\n",
            "EPOCH 18:\tTraining loss: 0.736\tValidation loss: 0.850\n",
            "\n",
            "EPOCH 19:\tTraining loss: 0.739\tValidation loss: 0.851\n",
            "\n",
            "EPOCH 20:\tTraining loss: 0.742\tValidation loss: 0.849\n",
            "\n",
            "EPOCH 21:\tTraining loss: 0.743\tValidation loss: 0.849\n",
            "\n",
            "EPOCH 22:\tTraining loss: 0.736\tValidation loss: 0.850\n",
            "\n",
            "EPOCH 23:\tTraining loss: 0.736\tValidation loss: 0.850\n",
            "\n",
            "EPOCH 24:\tTraining loss: 0.742\tValidation loss: 0.850\n",
            "\n",
            "EPOCH 25:\tTraining loss: 0.726\tValidation loss: 0.850\n",
            "\n",
            "EPOCH 26:\tTraining loss: 0.736\tValidation loss: 0.850\n",
            "\n",
            "EPOCH 27:\tTraining loss: 0.722\tValidation loss: 0.850\n",
            "\n",
            "EPOCH 28:\tTraining loss: 0.731\tValidation loss: 0.851\n",
            "\n",
            "EPOCH 29:\tTraining loss: 0.732\tValidation loss: 0.852\n",
            "\n",
            "EPOCH 30:\tTraining loss: 0.733\tValidation loss: 0.853\n",
            "\n",
            "EPOCH 31:\tTraining loss: 0.724\tValidation loss: 0.853\n",
            "\n",
            "EPOCH 32:\tTraining loss: 0.727\tValidation loss: 0.853\n",
            "\n",
            "EPOCH 33:\tTraining loss: 0.721\tValidation loss: 0.854\n",
            "\n",
            "EPOCH 34:\tTraining loss: 0.736\tValidation loss: 0.855\n",
            "\n",
            "EPOCH 35:\tTraining loss: 0.738\tValidation loss: 0.854\n",
            "\n",
            "EPOCH 36:\tTraining loss: 0.719\tValidation loss: 0.854\n",
            "\n",
            "EPOCH 37:\tTraining loss: 0.728\tValidation loss: 0.854\n",
            "\n",
            "EPOCH 38:\tTraining loss: 0.730\tValidation loss: 0.855\n",
            "\n",
            "EPOCH 39:\tTraining loss: 0.714\tValidation loss: 0.856\n",
            "\n",
            "EPOCH 40:\tTraining loss: 0.723\tValidation loss: 0.856\n",
            "\n",
            "EPOCH 41:\tTraining loss: 0.724\tValidation loss: 0.856\n",
            "\n",
            "EPOCH 42:\tTraining loss: 0.731\tValidation loss: 0.856\n",
            "\n",
            "EPOCH 43:\tTraining loss: 0.728\tValidation loss: 0.857\n",
            "\n",
            "EPOCH 44:\tTraining loss: 0.721\tValidation loss: 0.857\n",
            "\n",
            "EPOCH 45:\tTraining loss: 0.722\tValidation loss: 0.858\n",
            "\n",
            "EPOCH 46:\tTraining loss: 0.728\tValidation loss: 0.857\n",
            "\n",
            "EPOCH 47:\tTraining loss: 0.721\tValidation loss: 0.857\n",
            "\n",
            "EPOCH 48:\tTraining loss: 0.727\tValidation loss: 0.858\n",
            "\n",
            "EPOCH 49:\tTraining loss: 0.714\tValidation loss: 0.859\n",
            "\n",
            "EPOCH 50:\tTraining loss: 0.721\tValidation loss: 0.859\n",
            "\n",
            "EPOCH 51:\tTraining loss: 0.731\tValidation loss: 0.859\n",
            "\n",
            "EPOCH 52:\tTraining loss: 0.728\tValidation loss: 0.860\n",
            "\n",
            "EPOCH 53:\tTraining loss: 0.727\tValidation loss: 0.859\n",
            "\n",
            "EPOCH 54:\tTraining loss: 0.720\tValidation loss: 0.859\n",
            "\n",
            "EPOCH 55:\tTraining loss: 0.723\tValidation loss: 0.860\n",
            "\n",
            "EPOCH 56:\tTraining loss: 0.729\tValidation loss: 0.861\n",
            "\n",
            "EPOCH 57:\tTraining loss: 0.718\tValidation loss: 0.861\n",
            "\n",
            "EPOCH 58:\tTraining loss: 0.723\tValidation loss: 0.861\n",
            "\n",
            "EPOCH 59:\tTraining loss: 0.713\tValidation loss: 0.862\n",
            "\n",
            "EPOCH 60:\tTraining loss: 0.721\tValidation loss: 0.862\n",
            "\n",
            "EPOCH 61:\tTraining loss: 0.718\tValidation loss: 0.862\n",
            "\n",
            "EPOCH 62:\tTraining loss: 0.722\tValidation loss: 0.862\n",
            "\n",
            "EPOCH 63:\tTraining loss: 0.722\tValidation loss: 0.862\n",
            "\n",
            "EPOCH 64:\tTraining loss: 0.708\tValidation loss: 0.862\n",
            "\n",
            "EPOCH 65:\tTraining loss: 0.726\tValidation loss: 0.863\n",
            "\n",
            "EPOCH 66:\tTraining loss: 0.724\tValidation loss: 0.861\n",
            "\n",
            "EPOCH 67:\tTraining loss: 0.708\tValidation loss: 0.861\n",
            "\n",
            "EPOCH 68:\tTraining loss: 0.724\tValidation loss: 0.861\n",
            "\n",
            "EPOCH 69:\tTraining loss: 0.725\tValidation loss: 0.860\n",
            "\n",
            "EPOCH 70:\tTraining loss: 0.727\tValidation loss: 0.861\n",
            "\n",
            "EPOCH 71:\tTraining loss: 0.722\tValidation loss: 0.861\n",
            "\n",
            "EPOCH 72:\tTraining loss: 0.722\tValidation loss: 0.861\n",
            "\n",
            "EPOCH 73:\tTraining loss: 0.723\tValidation loss: 0.863\n",
            "\n",
            "EPOCH 74:\tTraining loss: 0.719\tValidation loss: 0.864\n",
            "\n",
            "EPOCH 75:\tTraining loss: 0.735\tValidation loss: 0.862\n",
            "\n",
            "EPOCH 76:\tTraining loss: 0.711\tValidation loss: 0.862\n",
            "\n",
            "EPOCH 77:\tTraining loss: 0.724\tValidation loss: 0.863\n",
            "\n",
            "EPOCH 78:\tTraining loss: 0.703\tValidation loss: 0.863\n",
            "\n",
            "EPOCH 79:\tTraining loss: 0.713\tValidation loss: 0.863\n",
            "\n",
            "EPOCH 80:\tTraining loss: 0.699\tValidation loss: 0.864\n",
            "\n",
            "EPOCH 81:\tTraining loss: 0.714\tValidation loss: 0.863\n",
            "\n",
            "EPOCH 82:\tTraining loss: 0.730\tValidation loss: 0.864\n",
            "\n",
            "EPOCH 83:\tTraining loss: 0.728\tValidation loss: 0.864\n",
            "\n",
            "EPOCH 84:\tTraining loss: 0.723\tValidation loss: 0.864\n",
            "\n",
            "EPOCH 85:\tTraining loss: 0.718\tValidation loss: 0.864\n",
            "\n",
            "EPOCH 86:\tTraining loss: 0.720\tValidation loss: 0.863\n",
            "\n",
            "EPOCH 87:\tTraining loss: 0.737\tValidation loss: 0.863\n",
            "\n",
            "EPOCH 88:\tTraining loss: 0.711\tValidation loss: 0.863\n",
            "\n",
            "EPOCH 89:\tTraining loss: 0.734\tValidation loss: 0.862\n",
            "\n",
            "EPOCH 90:\tTraining loss: 0.718\tValidation loss: 0.863\n",
            "\n",
            "EPOCH 91:\tTraining loss: 0.723\tValidation loss: 0.864\n",
            "\n",
            "EPOCH 92:\tTraining loss: 0.709\tValidation loss: 0.864\n",
            "\n",
            "EPOCH 93:\tTraining loss: 0.720\tValidation loss: 0.864\n",
            "\n",
            "EPOCH 94:\tTraining loss: 0.724\tValidation loss: 0.864\n",
            "\n",
            "EPOCH 95:\tTraining loss: 0.726\tValidation loss: 0.864\n",
            "\n",
            "EPOCH 96:\tTraining loss: 0.710\tValidation loss: 0.863\n",
            "\n",
            "EPOCH 97:\tTraining loss: 0.728\tValidation loss: 0.862\n",
            "\n",
            "EPOCH 98:\tTraining loss: 0.720\tValidation loss: 0.863\n",
            "\n",
            "EPOCH 99:\tTraining loss: 0.717\tValidation loss: 0.862\n",
            "\n",
            "EPOCH 100:\tTraining loss: 0.713\tValidation loss: 0.863\n"
          ]
        }
      ],
      "source": [
        "epochs = 100\n",
        "train_losses = []\n",
        "val_losses = []\n",
        "train_accs = []\n",
        "val_accs = []\n",
        "\n",
        "for epoch in range(epochs):\n",
        "    train_loss = 0.0\n",
        "    train_target = []\n",
        "    train_predict = []\n",
        "    model.train()\n",
        "    for X_samples, y_samples in train_loader:\n",
        "        X_samples = X_samples.to(device)\n",
        "        y_samples = y_samples.to(device)\n",
        "        optimizer.zero_grad()\n",
        "        outputs = model(X_samples)\n",
        "        loss = criterion(outputs, y_samples)\n",
        "        loss.backward()\n",
        "        optimizer.step()\n",
        "        train_loss += loss.item()\n",
        "\n",
        "        train_predict.append(outputs.detach().cpu())\n",
        "        train_target.append(y_samples.cpu())\n",
        "\n",
        "    train_loss /= len(train_loader)\n",
        "    train_losses.append(train_loss)\n",
        "\n",
        "    train_predict = torch.cat(train_predict)\n",
        "    train_target = torch.cat(train_target)\n",
        "    train_acc = compute_accuracy(train_predict, train_target)\n",
        "    train_accs.append(train_acc)\n",
        "\n",
        "    val_loss = 0.0\n",
        "    val_target = []\n",
        "    val_predict = []\n",
        "    model.eval()\n",
        "    with torch.no_grad():\n",
        "        for X_samples, y_samples in val_loader:\n",
        "            X_samples = X_samples.to(device)\n",
        "            y_samples = y_samples.to(device)\n",
        "            outputs = model(X_samples)\n",
        "            val_loss += criterion(outputs, y_samples).item()\n",
        "\n",
        "            val_predict.append(outputs.cpu())\n",
        "            val_target.append(y_samples.cpu())\n",
        "\n",
        "    val_loss /= len(val_loader)\n",
        "    val_losses.append(val_loss)\n",
        "\n",
        "    val_predict = torch.cat(val_predict)\n",
        "    val_target = torch.cat(val_target)\n",
        "    val_acc = compute_accuracy(val_predict, val_target)\n",
        "    val_accs.append(val_acc)\n",
        "\n",
        "    print(f'\\nEPOCH {epoch + 1}:\\tTraining loss: {train_loss:.3f}\\tValidation loss: {val_loss:.3f}')"
      ]
    },
    {
      "cell_type": "code",
      "execution_count": null,
      "metadata": {
        "colab": {
          "base_uri": "https://localhost:8080/",
          "height": 872
        },
        "id": "GBoqX7xMfNxK",
        "outputId": "2a19eb7f-6d87-45d8-bbe6-02cfa68624d5"
      },
      "outputs": [
        {
          "output_type": "display_data",
          "data": {
            "text/plain": [
              "<Figure size 1200x1000 with 4 Axes>"
            ],
            "image/png": "[encoded data removed]"
          },
          "metadata": {}
        }
      ],
      "source": [
        "fig, ax = plt.subplots(2, 2, figsize=(12, 10))\n",
        "ax[0, 0].plot(train_losses, color='green')\n",
        "ax[0, 0].set(xlabel='Epoch', ylabel='Loss')\n",
        "ax[0, 0].set_title('Training Loss')\n",
        "\n",
        "ax[0, 1].plot(val_losses, color='orange')\n",
        "ax[0, 1].set(xlabel='Epoch', ylabel='Loss')\n",
        "ax[0, 1].set_title('Validation Loss')\n",
        "\n",
        "ax[1, 0].plot(train_accs, color='green')\n",
        "ax[1, 0].set(xlabel='Epoch', ylabel='Accuracy')\n",
        "ax[1, 0].set_title('Training Accuracy')\n",
        "\n",
        "ax[1, 1].plot(val_accs, color='orange')\n",
        "ax[1, 1].set(xlabel='Epoch', ylabel='Accuracy')\n",
        "ax[1, 1].set_title('Validation Accuracy')\n",
        "\n",
        "plt.show()"
      ]
    },
    {
      "cell_type": "markdown",
      "source": [
        "## **8. Evaluation**"
      ],
      "metadata": {
        "id": "Z8sKnabn7Hf6"
      }
    },
    {
      "cell_type": "code",
      "source": [
        "val_target = []\n",
        "val_predict = []\n",
        "model.eval()\n",
        "with torch.no_grad():\n",
        "    for X_samples, y_samples in val_loader:\n",
        "        X_samples = X_samples.to(device)\n",
        "        y_samples = y_samples.to(device)\n",
        "        outputs = model(X_samples)\n",
        "\n",
        "        val_predict.append(outputs.cpu())\n",
        "        val_target.append(y_samples.cpu())\n",
        "\n",
        "    val_predict = torch.cat(val_predict)\n",
        "    val_target = torch.cat(val_target)\n",
        "    val_acc = compute_accuracy(val_predict, val_target)\n",
        "\n",
        "    print('Evaluation on val set:')\n",
        "    print(f'Accuracy: {val_acc}')"
      ],
      "metadata": {
        "colab": {
          "base_uri": "https://localhost:8080/"
        },
        "id": "D4p8aiMw7JNI",
        "outputId": "0ab21308-d8a3-4c90-fd34-a6d4f43c41a7"
      },
      "execution_count": null,
      "outputs": [
        {
          "output_type": "stream",
          "name": "stdout",
          "text": [
            "Evaluation on val set:\n",
            "Accuracy: 0.38333333333333336\n"
          ]
        }
      ]
    },
    {
      "cell_type": "code",
      "source": [
        "test_target = []\n",
        "test_predict = []\n",
        "model.eval()\n",
        "with torch.no_grad():\n",
        "    for X_samples, y_samples in test_loader:\n",
        "        X_samples = X_samples.to(device)\n",
        "        y_samples = y_samples.to(device)\n",
        "        outputs = model(X_samples)\n",
        "\n",
        "        test_predict.append(outputs.cpu())\n",
        "        test_target.append(y_samples.cpu())\n",
        "\n",
        "    test_predict = torch.cat(test_predict)\n",
        "    test_target = torch.cat(test_target)\n",
        "    test_acc = compute_accuracy(test_predict, test_target)\n",
        "\n",
        "    print('Evaluation on test set:')\n",
        "    print(f'Accuracy: {test_acc}')"
      ],
      "metadata": {
        "colab": {
          "base_uri": "https://localhost:8080/"
        },
        "id": "36pIeMQO7VpO",
        "outputId": "d3156637-ddb9-492b-cc69-bd4d200f364e"
      },
      "execution_count": null,
      "outputs": [
        {
          "output_type": "stream",
          "name": "stdout",
          "text": [
            "Evaluation on test set:\n",
            "Accuracy: 0.6\n"
          ]
        }
      ]
    }
  ],
  "metadata": {
    "colab": {
      "provenance": [],
      "include_colab_link": true
    },
    "kernelspec": {
      "display_name": "Python 3",
      "name": "python3"
    },
    "language_info": {
      "codemirror_mode": {
        "name": "ipython",
        "version": 3
      },
      "file_extension": ".py",
      "mimetype": "text/x-python",
      "name": "python",
      "nbconvert_exporter": "python",
      "pygments_lexer": "ipython3",
      "version": "3.10.13"
    }
  },
  "nbformat": 4,
  "nbformat_minor": 0
}