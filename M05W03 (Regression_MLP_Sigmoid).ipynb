{
  "cells": [
    {
      "cell_type": "markdown",
      "metadata": {
        "id": "view-in-github",
        "colab_type": "text"
      },
      "source": [
        "<a href=\"https://colab.research.google.com/github/Dukzf1v/AIO_Exercises/blob/main/M05W03%20(Regression_MLP_Sigmoid).ipynb\" target=\"_parent\"><img src=\"https://colab.research.google.com/assets/colab-badge.svg\" alt=\"Open In Colab\"/></a>"
      ]
    },
    {
      "cell_type": "markdown",
      "metadata": {
        "id": "E4sS0PFnr2Nu"
      },
      "source": [
        "## **0. Download dataset**\n",
        "**Note:** If you can't download using gdown due to limited number of downloads, please download it manually and upload it to your drive, then copy it from the drive to colab.\n",
        "```python\n",
        "from google.colab import drive\n",
        "\n",
        "drive.mount('/content/drive')\n",
        "!cp /path/to/dataset/on/your/drive .\n",
        "```"
      ]
    },
    {
      "cell_type": "code",
      "execution_count": null,
      "metadata": {
        "colab": {
          "base_uri": "https://localhost:8080/"
        },
        "id": "EVKQJrh6qhh9",
        "outputId": "75d5db31-930f-4caf-e2dd-24a84eede2b8"
      },
      "outputs": [
        {
          "output_type": "stream",
          "name": "stdout",
          "text": [
            "/usr/local/lib/python3.10/dist-packages/gdown/__main__.py:140: FutureWarning: Option `--id` was deprecated in version 4.3.1 and will be removed in 5.0. You don't need to pass it anymore to use a file ID.\n",
            "  warnings.warn(\n",
            "Downloading...\n",
            "From: https://drive.google.com/uc?id=1qiUDDoYyRLBiKOoYWdFl_5WByHE8Cugu\n",
            "To: /content/Auto_MPG_data.csv\n",
            "100% 15.4k/15.4k [00:00<00:00, 28.9MB/s]\n"
          ]
        }
      ],
      "source": [
        "# https://drive.google.com/file/d/1qiUDDoYyRLBiKOoYWdFl_5WByHE8Cugu/view?usp=sharing\n",
        "!gdown --id 1qiUDDoYyRLBiKOoYWdFl_5WByHE8Cugu"
      ]
    },
    {
      "cell_type": "markdown",
      "source": [
        "## **1. Import libraries**"
      ],
      "metadata": {
        "id": "PUWcf3M7iAk7"
      }
    },
    {
      "cell_type": "code",
      "execution_count": null,
      "metadata": {
        "id": "G3bkvnjeX3Qw"
      },
      "outputs": [],
      "source": [
        "import numpy as np\n",
        "import pandas as pd\n",
        "import matplotlib.pyplot as plt\n",
        "import torch\n",
        "import torch.nn as nn\n",
        "import torch.nn.functional as F\n",
        "from torch.utils.data import Dataset, DataLoader\n",
        "\n",
        "from sklearn.model_selection import train_test_split\n",
        "from sklearn.preprocessing import StandardScaler\n",
        "\n",
        "device = torch.device('cuda:0' if torch.cuda.is_available() else 'cpu')\n",
        "random_state = 59\n",
        "np.random.seed(random_state)\n",
        "torch.manual_seed(random_state)\n",
        "if torch.cuda.is_available():\n",
        "    torch.cuda.manual_seed(random_state)"
      ]
    },
    {
      "cell_type": "markdown",
      "metadata": {
        "id": "YZLOVWxF3CA3"
      },
      "source": [
        "## **2. Read dataset**"
      ]
    },
    {
      "cell_type": "code",
      "execution_count": null,
      "metadata": {
        "colab": {
          "base_uri": "https://localhost:8080/",
          "height": 423
        },
        "id": "mD0-N0bRb9c5",
        "outputId": "3d8f3718-deb0-44c2-c848-7e9accd5277b"
      },
      "outputs": [
        {
          "output_type": "execute_result",
          "data": {
            "text/plain": [
              "      MPG  Cylinders  Displacement  Horsepower  Weight  Acceleration  \\\n",
              "0    18.0          8         307.0       130.0  3504.0          12.0   \n",
              "1    15.0          8         350.0       165.0  3693.0          11.5   \n",
              "2    18.0          8         318.0       150.0  3436.0          11.0   \n",
              "3    16.0          8         304.0       150.0  3433.0          12.0   \n",
              "4    17.0          8         302.0       140.0  3449.0          10.5   \n",
              "..    ...        ...           ...         ...     ...           ...   \n",
              "387  27.0          4         140.0        86.0  2790.0          15.6   \n",
              "388  44.0          4          97.0        52.0  2130.0          24.6   \n",
              "389  32.0          4         135.0        84.0  2295.0          11.6   \n",
              "390  28.0          4         120.0        79.0  2625.0          18.6   \n",
              "391  31.0          4         119.0        82.0  2720.0          19.4   \n",
              "\n",
              "     Model Year  Europe  Japan  USA  \n",
              "0            70       0      0    1  \n",
              "1            70       0      0    1  \n",
              "2            70       0      0    1  \n",
              "3            70       0      0    1  \n",
              "4            70       0      0    1  \n",
              "..          ...     ...    ...  ...  \n",
              "387          82       0      0    1  \n",
              "388          82       1      0    0  \n",
              "389          82       0      0    1  \n",
              "390          82       0      0    1  \n",
              "391          82       0      0    1  \n",
              "\n",
              "[392 rows x 10 columns]"
            ],
            "text/html": [
              "\n",
              "  <div id=\"df-72ebfe0f-8d29-445b-b995-1abee19a8dc6\" class=\"colab-df-container\">\n",
              "    <div>\n",
              "<style scoped>\n",
              "    .dataframe tbody tr th:only-of-type {\n",
              "        vertical-align: middle;\n",
              "    }\n",
              "\n",
              "    .dataframe tbody tr th {\n",
              "        vertical-align: top;\n",
              "    }\n",
              "\n",
              "    .dataframe thead th {\n",
              "        text-align: right;\n",
              "    }\n",
              "</style>\n",
              "<table border=\"1\" class=\"dataframe\">\n",
              "  <thead>\n",
              "    <tr style=\"text-align: right;\">\n",
              "      <th></th>\n",
              "      <th>MPG</th>\n",
              "      <th>Cylinders</th>\n",
              "      <th>Displacement</th>\n",
              "      <th>Horsepower</th>\n",
              "      <th>Weight</th>\n",
              "      <th>Acceleration</th>\n",
              "      <th>Model Year</th>\n",
              "      <th>Europe</th>\n",
              "      <th>Japan</th>\n",
              "      <th>USA</th>\n",
              "    </tr>\n",
              "  </thead>\n",
              "  <tbody>\n",
              "    <tr>\n",
              "      <th>0</th>\n",
              "      <td>18.0</td>\n",
              "      <td>8</td>\n",
              "      <td>307.0</td>\n",
              "      <td>130.0</td>\n",
              "      <td>3504.0</td>\n",
              "      <td>12.0</td>\n",
              "      <td>70</td>\n",
              "      <td>0</td>\n",
              "      <td>0</td>\n",
              "      <td>1</td>\n",
              "    </tr>\n",
              "    <tr>\n",
              "      <th>1</th>\n",
              "      <td>15.0</td>\n",
              "      <td>8</td>\n",
              "      <td>350.0</td>\n",
              "      <td>165.0</td>\n",
              "      <td>3693.0</td>\n",
              "      <td>11.5</td>\n",
              "      <td>70</td>\n",
              "      <td>0</td>\n",
              "      <td>0</td>\n",
              "      <td>1</td>\n",
              "    </tr>\n",
              "    <tr>\n",
              "      <th>2</th>\n",
              "      <td>18.0</td>\n",
              "      <td>8</td>\n",
              "      <td>318.0</td>\n",
              "      <td>150.0</td>\n",
              "      <td>3436.0</td>\n",
              "      <td>11.0</td>\n",
              "      <td>70</td>\n",
              "      <td>0</td>\n",
              "      <td>0</td>\n",
              "      <td>1</td>\n",
              "    </tr>\n",
              "    <tr>\n",
              "      <th>3</th>\n",
              "      <td>16.0</td>\n",
              "      <td>8</td>\n",
              "      <td>304.0</td>\n",
              "      <td>150.0</td>\n",
              "      <td>3433.0</td>\n",
              "      <td>12.0</td>\n",
              "      <td>70</td>\n",
              "      <td>0</td>\n",
              "      <td>0</td>\n",
              "      <td>1</td>\n",
              "    </tr>\n",
              "    <tr>\n",
              "      <th>4</th>\n",
              "      <td>17.0</td>\n",
              "      <td>8</td>\n",
              "      <td>302.0</td>\n",
              "      <td>140.0</td>\n",
              "      <td>3449.0</td>\n",
              "      <td>10.5</td>\n",
              "      <td>70</td>\n",
              "      <td>0</td>\n",
              "      <td>0</td>\n",
              "      <td>1</td>\n",
              "    </tr>\n",
              "    <tr>\n",
              "      <th>...</th>\n",
              "      <td>...</td>\n",
              "      <td>...</td>\n",
              "      <td>...</td>\n",
              "      <td>...</td>\n",
              "      <td>...</td>\n",
              "      <td>...</td>\n",
              "      <td>...</td>\n",
              "      <td>...</td>\n",
              "      <td>...</td>\n",
              "      <td>...</td>\n",
              "    </tr>\n",
              "    <tr>\n",
              "      <th>387</th>\n",
              "      <td>27.0</td>\n",
              "      <td>4</td>\n",
              "      <td>140.0</td>\n",
              "      <td>86.0</td>\n",
              "      <td>2790.0</td>\n",
              "      <td>15.6</td>\n",
              "      <td>82</td>\n",
              "      <td>0</td>\n",
              "      <td>0</td>\n",
              "      <td>1</td>\n",
              "    </tr>\n",
              "    <tr>\n",
              "      <th>388</th>\n",
              "      <td>44.0</td>\n",
              "      <td>4</td>\n",
              "      <td>97.0</td>\n",
              "      <td>52.0</td>\n",
              "      <td>2130.0</td>\n",
              "      <td>24.6</td>\n",
              "      <td>82</td>\n",
              "      <td>1</td>\n",
              "      <td>0</td>\n",
              "      <td>0</td>\n",
              "    </tr>\n",
              "    <tr>\n",
              "      <th>389</th>\n",
              "      <td>32.0</td>\n",
              "      <td>4</td>\n",
              "      <td>135.0</td>\n",
              "      <td>84.0</td>\n",
              "      <td>2295.0</td>\n",
              "      <td>11.6</td>\n",
              "      <td>82</td>\n",
              "      <td>0</td>\n",
              "      <td>0</td>\n",
              "      <td>1</td>\n",
              "    </tr>\n",
              "    <tr>\n",
              "      <th>390</th>\n",
              "      <td>28.0</td>\n",
              "      <td>4</td>\n",
              "      <td>120.0</td>\n",
              "      <td>79.0</td>\n",
              "      <td>2625.0</td>\n",
              "      <td>18.6</td>\n",
              "      <td>82</td>\n",
              "      <td>0</td>\n",
              "      <td>0</td>\n",
              "      <td>1</td>\n",
              "    </tr>\n",
              "    <tr>\n",
              "      <th>391</th>\n",
              "      <td>31.0</td>\n",
              "      <td>4</td>\n",
              "      <td>119.0</td>\n",
              "      <td>82.0</td>\n",
              "      <td>2720.0</td>\n",
              "      <td>19.4</td>\n",
              "      <td>82</td>\n",
              "      <td>0</td>\n",
              "      <td>0</td>\n",
              "      <td>1</td>\n",
              "    </tr>\n",
              "  </tbody>\n",
              "</table>\n",
              "<p>392 rows × 10 columns</p>\n",
              "</div>\n",
              "    <div class=\"colab-df-buttons\">\n",
              "\n",
              "  <div class=\"colab-df-container\">\n",
              "    <button class=\"colab-df-convert\" onclick=\"convertToInteractive('df-72ebfe0f-8d29-445b-b995-1abee19a8dc6')\"\n",
              "            title=\"Convert this dataframe to an interactive table.\"\n",
              "            style=\"display:none;\">\n",
              "\n",
              "  <svg xmlns=\"http://www.w3.org/2000/svg\" height=\"24px\" viewBox=\"0 -960 960 960\">\n",
              "    <path d=\"M120-120v-720h720v720H120Zm60-500h600v-160H180v160Zm220 220h160v-160H400v160Zm0 220h160v-160H400v160ZM180-400h160v-160H180v160Zm440 0h160v-160H620v160ZM180-180h160v-160H180v160Zm440 0h160v-160H620v160Z\"/>\n",
              "  </svg>\n",
              "    </button>\n",
              "\n",
              "  <style>\n",
              "    .colab-df-container {\n",
              "      display:flex;\n",
              "      gap: 12px;\n",
              "    }\n",
              "\n",
              "    .colab-df-convert {\n",
              "      background-color: #E8F0FE;\n",
              "      border: none;\n",
              "      border-radius: 50%;\n",
              "      cursor: pointer;\n",
              "      display: none;\n",
              "      fill: #1967D2;\n",
              "      height: 32px;\n",
              "      padding: 0 0 0 0;\n",
              "      width: 32px;\n",
              "    }\n",
              "\n",
              "    .colab-df-convert:hover {\n",
              "      background-color: #E2EBFA;\n",
              "      box-shadow: 0px 1px 2px rgba(60, 64, 67, 0.3), 0px 1px 3px 1px rgba(60, 64, 67, 0.15);\n",
              "      fill: #174EA6;\n",
              "    }\n",
              "\n",
              "    .colab-df-buttons div {\n",
              "      margin-bottom: 4px;\n",
              "    }\n",
              "\n",
              "    [theme=dark] .colab-df-convert {\n",
              "      background-color: #3B4455;\n",
              "      fill: #D2E3FC;\n",
              "    }\n",
              "\n",
              "    [theme=dark] .colab-df-convert:hover {\n",
              "      background-color: #434B5C;\n",
              "      box-shadow: 0px 1px 3px 1px rgba(0, 0, 0, 0.15);\n",
              "      filter: drop-shadow(0px 1px 2px rgba(0, 0, 0, 0.3));\n",
              "      fill: #FFFFFF;\n",
              "    }\n",
              "  </style>\n",
              "\n",
              "    <script>\n",
              "      const buttonEl =\n",
              "        document.querySelector('#df-72ebfe0f-8d29-445b-b995-1abee19a8dc6 button.colab-df-convert');\n",
              "      buttonEl.style.display =\n",
              "        google.colab.kernel.accessAllowed ? 'block' : 'none';\n",
              "\n",
              "      async function convertToInteractive(key) {\n",
              "        const element = document.querySelector('#df-72ebfe0f-8d29-445b-b995-1abee19a8dc6');\n",
              "        const dataTable =\n",
              "          await google.colab.kernel.invokeFunction('convertToInteractive',\n",
              "                                                    [key], {});\n",
              "        if (!dataTable) return;\n",
              "\n",
              "        const docLinkHtml = 'Like what you see? Visit the ' +\n",
              "          '<a target=\"_blank\" href=https://colab.research.google.com/notebooks/data_table.ipynb>data table notebook</a>'\n",
              "          + ' to learn more about interactive tables.';\n",
              "        element.innerHTML = '';\n",
              "        dataTable['output_type'] = 'display_data';\n",
              "        await google.colab.output.renderOutput(dataTable, element);\n",
              "        const docLink = document.createElement('div');\n",
              "        docLink.innerHTML = docLinkHtml;\n",
              "        element.appendChild(docLink);\n",
              "      }\n",
              "    </script>\n",
              "  </div>\n",
              "\n",
              "\n",
              "<div id=\"df-1171a7be-195c-41c4-8ff9-0fe1d56f01fb\">\n",
              "  <button class=\"colab-df-quickchart\" onclick=\"quickchart('df-1171a7be-195c-41c4-8ff9-0fe1d56f01fb')\"\n",
              "            title=\"Suggest charts\"\n",
              "            style=\"display:none;\">\n",
              "\n",
              "<svg xmlns=\"http://www.w3.org/2000/svg\" height=\"24px\"viewBox=\"0 0 24 24\"\n",
              "     width=\"24px\">\n",
              "    <g>\n",
              "        <path d=\"M19 3H5c-1.1 0-2 .9-2 2v14c0 1.1.9 2 2 2h14c1.1 0 2-.9 2-2V5c0-1.1-.9-2-2-2zM9 17H7v-7h2v7zm4 0h-2V7h2v10zm4 0h-2v-4h2v4z\"/>\n",
              "    </g>\n",
              "</svg>\n",
              "  </button>\n",
              "\n",
              "<style>\n",
              "  .colab-df-quickchart {\n",
              "      --bg-color: #E8F0FE;\n",
              "      --fill-color: #1967D2;\n",
              "      --hover-bg-color: #E2EBFA;\n",
              "      --hover-fill-color: #174EA6;\n",
              "      --disabled-fill-color: #AAA;\n",
              "      --disabled-bg-color: #DDD;\n",
              "  }\n",
              "\n",
              "  [theme=dark] .colab-df-quickchart {\n",
              "      --bg-color: #3B4455;\n",
              "      --fill-color: #D2E3FC;\n",
              "      --hover-bg-color: #434B5C;\n",
              "      --hover-fill-color: #FFFFFF;\n",
              "      --disabled-bg-color: #3B4455;\n",
              "      --disabled-fill-color: #666;\n",
              "  }\n",
              "\n",
              "  .colab-df-quickchart {\n",
              "    background-color: var(--bg-color);\n",
              "    border: none;\n",
              "    border-radius: 50%;\n",
              "    cursor: pointer;\n",
              "    display: none;\n",
              "    fill: var(--fill-color);\n",
              "    height: 32px;\n",
              "    padding: 0;\n",
              "    width: 32px;\n",
              "  }\n",
              "\n",
              "  .colab-df-quickchart:hover {\n",
              "    background-color: var(--hover-bg-color);\n",
              "    box-shadow: 0 1px 2px rgba(60, 64, 67, 0.3), 0 1px 3px 1px rgba(60, 64, 67, 0.15);\n",
              "    fill: var(--button-hover-fill-color);\n",
              "  }\n",
              "\n",
              "  .colab-df-quickchart-complete:disabled,\n",
              "  .colab-df-quickchart-complete:disabled:hover {\n",
              "    background-color: var(--disabled-bg-color);\n",
              "    fill: var(--disabled-fill-color);\n",
              "    box-shadow: none;\n",
              "  }\n",
              "\n",
              "  .colab-df-spinner {\n",
              "    border: 2px solid var(--fill-color);\n",
              "    border-color: transparent;\n",
              "    border-bottom-color: var(--fill-color);\n",
              "    animation:\n",
              "      spin 1s steps(1) infinite;\n",
              "  }\n",
              "\n",
              "  @keyframes spin {\n",
              "    0% {\n",
              "      border-color: transparent;\n",
              "      border-bottom-color: var(--fill-color);\n",
              "      border-left-color: var(--fill-color);\n",
              "    }\n",
              "    20% {\n",
              "      border-color: transparent;\n",
              "      border-left-color: var(--fill-color);\n",
              "      border-top-color: var(--fill-color);\n",
              "    }\n",
              "    30% {\n",
              "      border-color: transparent;\n",
              "      border-left-color: var(--fill-color);\n",
              "      border-top-color: var(--fill-color);\n",
              "      border-right-color: var(--fill-color);\n",
              "    }\n",
              "    40% {\n",
              "      border-color: transparent;\n",
              "      border-right-color: var(--fill-color);\n",
              "      border-top-color: var(--fill-color);\n",
              "    }\n",
              "    60% {\n",
              "      border-color: transparent;\n",
              "      border-right-color: var(--fill-color);\n",
              "    }\n",
              "    80% {\n",
              "      border-color: transparent;\n",
              "      border-right-color: var(--fill-color);\n",
              "      border-bottom-color: var(--fill-color);\n",
              "    }\n",
              "    90% {\n",
              "      border-color: transparent;\n",
              "      border-bottom-color: var(--fill-color);\n",
              "    }\n",
              "  }\n",
              "</style>\n",
              "\n",
              "  <script>\n",
              "    async function quickchart(key) {\n",
              "      const quickchartButtonEl =\n",
              "        document.querySelector('#' + key + ' button');\n",
              "      quickchartButtonEl.disabled = true;  // To prevent multiple clicks.\n",
              "      quickchartButtonEl.classList.add('colab-df-spinner');\n",
              "      try {\n",
              "        const charts = await google.colab.kernel.invokeFunction(\n",
              "            'suggestCharts', [key], {});\n",
              "      } catch (error) {\n",
              "        console.error('Error during call to suggestCharts:', error);\n",
              "      }\n",
              "      quickchartButtonEl.classList.remove('colab-df-spinner');\n",
              "      quickchartButtonEl.classList.add('colab-df-quickchart-complete');\n",
              "    }\n",
              "    (() => {\n",
              "      let quickchartButtonEl =\n",
              "        document.querySelector('#df-1171a7be-195c-41c4-8ff9-0fe1d56f01fb button');\n",
              "      quickchartButtonEl.style.display =\n",
              "        google.colab.kernel.accessAllowed ? 'block' : 'none';\n",
              "    })();\n",
              "  </script>\n",
              "</div>\n",
              "\n",
              "  <div id=\"id_a42cfeef-251e-4185-9a38-84025a00a68b\">\n",
              "    <style>\n",
              "      .colab-df-generate {\n",
              "        background-color: #E8F0FE;\n",
              "        border: none;\n",
              "        border-radius: 50%;\n",
              "        cursor: pointer;\n",
              "        display: none;\n",
              "        fill: #1967D2;\n",
              "        height: 32px;\n",
              "        padding: 0 0 0 0;\n",
              "        width: 32px;\n",
              "      }\n",
              "\n",
              "      .colab-df-generate:hover {\n",
              "        background-color: #E2EBFA;\n",
              "        box-shadow: 0px 1px 2px rgba(60, 64, 67, 0.3), 0px 1px 3px 1px rgba(60, 64, 67, 0.15);\n",
              "        fill: #174EA6;\n",
              "      }\n",
              "\n",
              "      [theme=dark] .colab-df-generate {\n",
              "        background-color: #3B4455;\n",
              "        fill: #D2E3FC;\n",
              "      }\n",
              "\n",
              "      [theme=dark] .colab-df-generate:hover {\n",
              "        background-color: #434B5C;\n",
              "        box-shadow: 0px 1px 3px 1px rgba(0, 0, 0, 0.15);\n",
              "        filter: drop-shadow(0px 1px 2px rgba(0, 0, 0, 0.3));\n",
              "        fill: #FFFFFF;\n",
              "      }\n",
              "    </style>\n",
              "    <button class=\"colab-df-generate\" onclick=\"generateWithVariable('dataset')\"\n",
              "            title=\"Generate code using this dataframe.\"\n",
              "            style=\"display:none;\">\n",
              "\n",
              "  <svg xmlns=\"http://www.w3.org/2000/svg\" height=\"24px\"viewBox=\"0 0 24 24\"\n",
              "       width=\"24px\">\n",
              "    <path d=\"M7,19H8.4L18.45,9,17,7.55,7,17.6ZM5,21V16.75L18.45,3.32a2,2,0,0,1,2.83,0l1.4,1.43a1.91,1.91,0,0,1,.58,1.4,1.91,1.91,0,0,1-.58,1.4L9.25,21ZM18.45,9,17,7.55Zm-12,3A5.31,5.31,0,0,0,4.9,8.1,5.31,5.31,0,0,0,1,6.5,5.31,5.31,0,0,0,4.9,4.9,5.31,5.31,0,0,0,6.5,1,5.31,5.31,0,0,0,8.1,4.9,5.31,5.31,0,0,0,12,6.5,5.46,5.46,0,0,0,6.5,12Z\"/>\n",
              "  </svg>\n",
              "    </button>\n",
              "    <script>\n",
              "      (() => {\n",
              "      const buttonEl =\n",
              "        document.querySelector('#id_a42cfeef-251e-4185-9a38-84025a00a68b button.colab-df-generate');\n",
              "      buttonEl.style.display =\n",
              "        google.colab.kernel.accessAllowed ? 'block' : 'none';\n",
              "\n",
              "      buttonEl.onclick = () => {\n",
              "        google.colab.notebook.generateWithVariable('dataset');\n",
              "      }\n",
              "      })();\n",
              "    </script>\n",
              "  </div>\n",
              "\n",
              "    </div>\n",
              "  </div>\n"
            ],
            "application/vnd.google.colaboratory.intrinsic+json": {
              "type": "dataframe",
              "variable_name": "dataset",
              "summary": "{\n  \"name\": \"dataset\",\n  \"rows\": 392,\n  \"fields\": [\n    {\n      \"column\": \"MPG\",\n      \"properties\": {\n        \"dtype\": \"number\",\n        \"std\": 7.805007486571799,\n        \"min\": 9.0,\n        \"max\": 46.6,\n        \"num_unique_values\": 127,\n        \"samples\": [\n          17.5,\n          35.1,\n          28.8\n        ],\n        \"semantic_type\": \"\",\n        \"description\": \"\"\n      }\n    },\n    {\n      \"column\": \"Cylinders\",\n      \"properties\": {\n        \"dtype\": \"number\",\n        \"std\": 1,\n        \"min\": 3,\n        \"max\": 8,\n        \"num_unique_values\": 5,\n        \"samples\": [\n          4,\n          5,\n          6\n        ],\n        \"semantic_type\": \"\",\n        \"description\": \"\"\n      }\n    },\n    {\n      \"column\": \"Displacement\",\n      \"properties\": {\n        \"dtype\": \"number\",\n        \"std\": 104.64400390890465,\n        \"min\": 68.0,\n        \"max\": 455.0,\n        \"num_unique_values\": 81,\n        \"samples\": [\n          116.0,\n          307.0,\n          360.0\n        ],\n        \"semantic_type\": \"\",\n        \"description\": \"\"\n      }\n    },\n    {\n      \"column\": \"Horsepower\",\n      \"properties\": {\n        \"dtype\": \"number\",\n        \"std\": 38.49115993282855,\n        \"min\": 46.0,\n        \"max\": 230.0,\n        \"num_unique_values\": 93,\n        \"samples\": [\n          92.0,\n          100.0,\n          52.0\n        ],\n        \"semantic_type\": \"\",\n        \"description\": \"\"\n      }\n    },\n    {\n      \"column\": \"Weight\",\n      \"properties\": {\n        \"dtype\": \"number\",\n        \"std\": 849.4025600429494,\n        \"min\": 1613.0,\n        \"max\": 5140.0,\n        \"num_unique_values\": 346,\n        \"samples\": [\n          2472.0,\n          3221.0,\n          2700.0\n        ],\n        \"semantic_type\": \"\",\n        \"description\": \"\"\n      }\n    },\n    {\n      \"column\": \"Acceleration\",\n      \"properties\": {\n        \"dtype\": \"number\",\n        \"std\": 2.7588641191880816,\n        \"min\": 8.0,\n        \"max\": 24.8,\n        \"num_unique_values\": 95,\n        \"samples\": [\n          14.7,\n          18.0,\n          14.3\n        ],\n        \"semantic_type\": \"\",\n        \"description\": \"\"\n      }\n    },\n    {\n      \"column\": \"Model Year\",\n      \"properties\": {\n        \"dtype\": \"number\",\n        \"std\": 3,\n        \"min\": 70,\n        \"max\": 82,\n        \"num_unique_values\": 13,\n        \"samples\": [\n          81,\n          79,\n          70\n        ],\n        \"semantic_type\": \"\",\n        \"description\": \"\"\n      }\n    },\n    {\n      \"column\": \"Europe\",\n      \"properties\": {\n        \"dtype\": \"number\",\n        \"std\": 0,\n        \"min\": 0,\n        \"max\": 1,\n        \"num_unique_values\": 2,\n        \"samples\": [\n          1,\n          0\n        ],\n        \"semantic_type\": \"\",\n        \"description\": \"\"\n      }\n    },\n    {\n      \"column\": \"Japan\",\n      \"properties\": {\n        \"dtype\": \"number\",\n        \"std\": 0,\n        \"min\": 0,\n        \"max\": 1,\n        \"num_unique_values\": 2,\n        \"samples\": [\n          1,\n          0\n        ],\n        \"semantic_type\": \"\",\n        \"description\": \"\"\n      }\n    },\n    {\n      \"column\": \"USA\",\n      \"properties\": {\n        \"dtype\": \"number\",\n        \"std\": 0,\n        \"min\": 0,\n        \"max\": 1,\n        \"num_unique_values\": 2,\n        \"samples\": [\n          0,\n          1\n        ],\n        \"semantic_type\": \"\",\n        \"description\": \"\"\n      }\n    }\n  ]\n}"
            }
          },
          "metadata": {},
          "execution_count": 37
        }
      ],
      "source": [
        "dataset_path = '/content/Auto_MPG_data.csv'\n",
        "dataset = pd.read_csv(dataset_path)\n",
        "dataset"
      ]
    },
    {
      "cell_type": "markdown",
      "metadata": {
        "id": "T6eIMDg_8G88"
      },
      "source": [
        "## **3. Preprocessing data**"
      ]
    },
    {
      "cell_type": "markdown",
      "source": [
        "### **3.1. X, y split**"
      ],
      "metadata": {
        "id": "FyJI_cLkkE6C"
      }
    },
    {
      "cell_type": "code",
      "source": [
        "X = dataset.drop(columns='MPG').values\n",
        "y = dataset['MPG'].values"
      ],
      "metadata": {
        "id": "gESa74pukGzL"
      },
      "execution_count": null,
      "outputs": []
    },
    {
      "cell_type": "markdown",
      "metadata": {
        "id": "eYQgHFPy3M-G"
      },
      "source": [
        "### **3.2. Train/val/test split**"
      ]
    },
    {
      "cell_type": "code",
      "execution_count": null,
      "metadata": {
        "id": "3KFNxNctYgTY"
      },
      "outputs": [],
      "source": [
        "val_size = 0.2\n",
        "test_size = 0.125\n",
        "is_shuffle = True\n",
        "\n",
        "X_train, X_val, y_train, y_val = train_test_split(\n",
        "    X, y,\n",
        "    test_size=val_size,\n",
        "    random_state=random_state,\n",
        "    shuffle=is_shuffle\n",
        ")\n",
        "\n",
        "X_train, X_test, y_train, y_test = train_test_split(\n",
        "    X_train, y_train,\n",
        "    test_size=test_size,\n",
        "    random_state=random_state,\n",
        "    shuffle=is_shuffle\n",
        ")"
      ]
    },
    {
      "cell_type": "code",
      "source": [
        "print(f'Number of training samples: {X_train.shape[0]}')\n",
        "print(f'Number of val samples: {X_val.shape[0]}')\n",
        "print(f'Number of test samples: {X_test.shape[0]}')"
      ],
      "metadata": {
        "colab": {
          "base_uri": "https://localhost:8080/"
        },
        "id": "g5iEiqW8m5Nl",
        "outputId": "feef99c5-8c66-49e8-c089-45782048743a"
      },
      "execution_count": null,
      "outputs": [
        {
          "output_type": "stream",
          "name": "stdout",
          "text": [
            "Number of training samples: 273\n",
            "Number of val samples: 79\n",
            "Number of test samples: 40\n"
          ]
        }
      ]
    },
    {
      "cell_type": "markdown",
      "metadata": {
        "id": "fJwFqmUn3ifv"
      },
      "source": [
        "### **3.3. Data Normalization**"
      ]
    },
    {
      "cell_type": "code",
      "execution_count": null,
      "metadata": {
        "id": "u5kpBGfVbVUD"
      },
      "outputs": [],
      "source": [
        "normalizer = StandardScaler()\n",
        "X_train = normalizer.fit_transform(X_train)\n",
        "X_val = normalizer.transform(X_val)\n",
        "X_test = normalizer.transform(X_test)"
      ]
    },
    {
      "cell_type": "code",
      "source": [
        "X_train = torch.tensor(X_train, dtype=torch.float32)\n",
        "X_val = torch.tensor(X_val, dtype=torch.float32)\n",
        "X_test = torch.tensor(X_test, dtype=torch.float32)\n",
        "y_train = torch.tensor(y_train, dtype=torch.float32)\n",
        "y_val = torch.tensor(y_val, dtype=torch.float32)\n",
        "y_test = torch.tensor(y_test, dtype=torch.float32)"
      ],
      "metadata": {
        "id": "mAUwcsix5KUk"
      },
      "execution_count": null,
      "outputs": []
    },
    {
      "cell_type": "markdown",
      "source": [
        "## **4. Create PyTorch DataLoader**"
      ],
      "metadata": {
        "id": "NrZ520zomN8e"
      }
    },
    {
      "cell_type": "code",
      "execution_count": null,
      "metadata": {
        "id": "il-wRorLdmTV"
      },
      "outputs": [],
      "source": [
        "class CustomDataset(Dataset):\n",
        "    def __init__(self, X, y):\n",
        "        self.X = X\n",
        "        self.y = y\n",
        "\n",
        "    def __len__(self):\n",
        "        return len(self.y)\n",
        "\n",
        "    def __getitem__(self, idx):\n",
        "        return self.X[idx], self.y[idx]"
      ]
    },
    {
      "cell_type": "code",
      "execution_count": null,
      "metadata": {
        "id": "_6uBR0ordqXJ"
      },
      "outputs": [],
      "source": [
        "batch_size = 32\n",
        "train_dataset = CustomDataset(X_train, y_train)\n",
        "val_dataset = CustomDataset(X_val, y_val)\n",
        "train_loader = DataLoader(train_dataset,\n",
        "                          batch_size=batch_size,\n",
        "                          shuffle=True)\n",
        "val_loader = DataLoader(val_dataset,\n",
        "                        batch_size=batch_size,\n",
        "                        shuffle=False)"
      ]
    },
    {
      "cell_type": "markdown",
      "source": [
        "## **5. Build MLP network**"
      ],
      "metadata": {
        "id": "qT1Fm6YgoCRZ"
      }
    },
    {
      "cell_type": "code",
      "execution_count": null,
      "metadata": {
        "id": "Co98aXfydtz0"
      },
      "outputs": [],
      "source": [
        "class MLP(nn.Module):\n",
        "    def __init__(self, input_dims, hidden_dims, output_dims):\n",
        "        super(MLP, self).__init__()\n",
        "        self.linear1 = nn.Linear(input_dims, hidden_dims)\n",
        "        self.linear2 = nn.Linear(hidden_dims, hidden_dims)\n",
        "        self.output = nn.Linear(hidden_dims, output_dims)\n",
        "\n",
        "    def forward(self, x):\n",
        "        x = self.linear1(x)\n",
        "        x = F.sigmoid(x)\n",
        "        x = self.linear2(x)\n",
        "        x = F.sigmoid(x)\n",
        "        out = self.output(x)\n",
        "        return out.squeeze(1)"
      ]
    },
    {
      "cell_type": "code",
      "source": [
        "input_dims = X_train.shape[1]\n",
        "output_dims = 1\n",
        "hidden_dims = 64\n",
        "lr = 1e-2\n",
        "\n",
        "model = MLP(input_dims=input_dims,\n",
        "            hidden_dims=hidden_dims,\n",
        "            output_dims=output_dims).to(device)\n",
        "criterion = nn.MSELoss()\n",
        "optimizer = torch.optim.SGD(model.parameters(), lr=lr)"
      ],
      "metadata": {
        "id": "8qk733yOoN97"
      },
      "execution_count": null,
      "outputs": []
    },
    {
      "cell_type": "markdown",
      "metadata": {
        "id": "oJzhhPUn4zy8"
      },
      "source": [
        "## **6. Training**"
      ]
    },
    {
      "cell_type": "code",
      "execution_count": null,
      "metadata": {
        "id": "kY1rB1usfEUc"
      },
      "outputs": [],
      "source": [
        "def r_squared(y_true, y_pred):\n",
        "    y_true = torch.Tensor(y_true).to(device)\n",
        "    y_pred = torch.Tensor(y_pred).to(device)\n",
        "    mean_true = torch.mean(y_true)\n",
        "    ss_tot = torch.sum((y_true - mean_true) ** 2)\n",
        "    ss_res = torch.sum((y_true - y_pred) ** 2)\n",
        "    r2 = 1 - (ss_res / ss_tot)\n",
        "    return r2"
      ]
    },
    {
      "cell_type": "code",
      "execution_count": null,
      "metadata": {
        "colab": {
          "base_uri": "https://localhost:8080/"
        },
        "id": "4krCCYspfI4W",
        "outputId": "cc3d530c-3461-45c2-d068-da6fecfcc01f"
      },
      "outputs": [
        {
          "output_type": "stream",
          "name": "stdout",
          "text": [
            "\n",
            "EPOCH 1:\tTraining loss: 159.112\tValidation loss: 49.539\n",
            "\n",
            "EPOCH 2:\tTraining loss: 44.040\tValidation loss: 34.154\n",
            "\n",
            "EPOCH 3:\tTraining loss: 34.495\tValidation loss: 21.639\n",
            "\n",
            "EPOCH 4:\tTraining loss: 23.987\tValidation loss: 14.353\n",
            "\n",
            "EPOCH 5:\tTraining loss: 19.934\tValidation loss: 10.018\n",
            "\n",
            "EPOCH 6:\tTraining loss: 16.809\tValidation loss: 9.067\n",
            "\n",
            "EPOCH 7:\tTraining loss: 16.058\tValidation loss: 7.951\n",
            "\n",
            "EPOCH 8:\tTraining loss: 15.227\tValidation loss: 9.081\n",
            "\n",
            "EPOCH 9:\tTraining loss: 14.298\tValidation loss: 7.889\n",
            "\n",
            "EPOCH 10:\tTraining loss: 14.817\tValidation loss: 8.603\n",
            "\n",
            "EPOCH 11:\tTraining loss: 13.669\tValidation loss: 8.205\n",
            "\n",
            "EPOCH 12:\tTraining loss: 12.363\tValidation loss: 7.237\n",
            "\n",
            "EPOCH 13:\tTraining loss: 12.506\tValidation loss: 7.926\n",
            "\n",
            "EPOCH 14:\tTraining loss: 11.440\tValidation loss: 7.117\n",
            "\n",
            "EPOCH 15:\tTraining loss: 11.780\tValidation loss: 7.040\n",
            "\n",
            "EPOCH 16:\tTraining loss: 11.579\tValidation loss: 7.047\n",
            "\n",
            "EPOCH 17:\tTraining loss: 11.651\tValidation loss: 7.739\n",
            "\n",
            "EPOCH 18:\tTraining loss: 11.814\tValidation loss: 7.069\n",
            "\n",
            "EPOCH 19:\tTraining loss: 10.600\tValidation loss: 6.961\n",
            "\n",
            "EPOCH 20:\tTraining loss: 10.738\tValidation loss: 6.669\n",
            "\n",
            "EPOCH 21:\tTraining loss: 10.246\tValidation loss: 6.651\n",
            "\n",
            "EPOCH 22:\tTraining loss: 10.642\tValidation loss: 7.066\n",
            "\n",
            "EPOCH 23:\tTraining loss: 10.392\tValidation loss: 6.195\n",
            "\n",
            "EPOCH 24:\tTraining loss: 10.854\tValidation loss: 9.307\n",
            "\n",
            "EPOCH 25:\tTraining loss: 10.921\tValidation loss: 7.232\n",
            "\n",
            "EPOCH 26:\tTraining loss: 10.462\tValidation loss: 8.807\n",
            "\n",
            "EPOCH 27:\tTraining loss: 10.569\tValidation loss: 6.206\n",
            "\n",
            "EPOCH 28:\tTraining loss: 9.513\tValidation loss: 6.039\n",
            "\n",
            "EPOCH 29:\tTraining loss: 9.547\tValidation loss: 5.990\n",
            "\n",
            "EPOCH 30:\tTraining loss: 9.990\tValidation loss: 5.404\n",
            "\n",
            "EPOCH 31:\tTraining loss: 9.749\tValidation loss: 7.000\n",
            "\n",
            "EPOCH 32:\tTraining loss: 9.452\tValidation loss: 5.414\n",
            "\n",
            "EPOCH 33:\tTraining loss: 9.532\tValidation loss: 5.599\n",
            "\n",
            "EPOCH 34:\tTraining loss: 9.449\tValidation loss: 6.602\n",
            "\n",
            "EPOCH 35:\tTraining loss: 9.212\tValidation loss: 5.719\n",
            "\n",
            "EPOCH 36:\tTraining loss: 9.514\tValidation loss: 9.152\n",
            "\n",
            "EPOCH 37:\tTraining loss: 9.880\tValidation loss: 5.475\n",
            "\n",
            "EPOCH 38:\tTraining loss: 9.175\tValidation loss: 6.887\n",
            "\n",
            "EPOCH 39:\tTraining loss: 8.998\tValidation loss: 8.177\n",
            "\n",
            "EPOCH 40:\tTraining loss: 9.158\tValidation loss: 6.322\n",
            "\n",
            "EPOCH 41:\tTraining loss: 9.783\tValidation loss: 8.018\n",
            "\n",
            "EPOCH 42:\tTraining loss: 8.912\tValidation loss: 5.191\n",
            "\n",
            "EPOCH 43:\tTraining loss: 8.852\tValidation loss: 7.155\n",
            "\n",
            "EPOCH 44:\tTraining loss: 8.684\tValidation loss: 10.145\n",
            "\n",
            "EPOCH 45:\tTraining loss: 8.815\tValidation loss: 4.872\n",
            "\n",
            "EPOCH 46:\tTraining loss: 8.742\tValidation loss: 5.213\n",
            "\n",
            "EPOCH 47:\tTraining loss: 9.077\tValidation loss: 5.226\n",
            "\n",
            "EPOCH 48:\tTraining loss: 8.460\tValidation loss: 5.804\n",
            "\n",
            "EPOCH 49:\tTraining loss: 8.702\tValidation loss: 7.246\n",
            "\n",
            "EPOCH 50:\tTraining loss: 8.775\tValidation loss: 5.278\n",
            "\n",
            "EPOCH 51:\tTraining loss: 8.476\tValidation loss: 5.375\n",
            "\n",
            "EPOCH 52:\tTraining loss: 9.093\tValidation loss: 4.808\n",
            "\n",
            "EPOCH 53:\tTraining loss: 9.107\tValidation loss: 5.473\n",
            "\n",
            "EPOCH 54:\tTraining loss: 8.861\tValidation loss: 4.823\n",
            "\n",
            "EPOCH 55:\tTraining loss: 8.360\tValidation loss: 4.858\n",
            "\n",
            "EPOCH 56:\tTraining loss: 8.730\tValidation loss: 5.030\n",
            "\n",
            "EPOCH 57:\tTraining loss: 9.381\tValidation loss: 5.083\n",
            "\n",
            "EPOCH 58:\tTraining loss: 8.510\tValidation loss: 5.339\n",
            "\n",
            "EPOCH 59:\tTraining loss: 8.489\tValidation loss: 5.557\n",
            "\n",
            "EPOCH 60:\tTraining loss: 8.565\tValidation loss: 4.662\n",
            "\n",
            "EPOCH 61:\tTraining loss: 8.442\tValidation loss: 4.767\n",
            "\n",
            "EPOCH 62:\tTraining loss: 8.547\tValidation loss: 4.790\n",
            "\n",
            "EPOCH 63:\tTraining loss: 8.232\tValidation loss: 4.814\n",
            "\n",
            "EPOCH 64:\tTraining loss: 7.913\tValidation loss: 5.127\n",
            "\n",
            "EPOCH 65:\tTraining loss: 8.779\tValidation loss: 5.031\n",
            "\n",
            "EPOCH 66:\tTraining loss: 8.238\tValidation loss: 5.669\n",
            "\n",
            "EPOCH 67:\tTraining loss: 8.196\tValidation loss: 5.089\n",
            "\n",
            "EPOCH 68:\tTraining loss: 8.727\tValidation loss: 4.923\n",
            "\n",
            "EPOCH 69:\tTraining loss: 8.804\tValidation loss: 5.524\n",
            "\n",
            "EPOCH 70:\tTraining loss: 8.519\tValidation loss: 5.298\n",
            "\n",
            "EPOCH 71:\tTraining loss: 8.294\tValidation loss: 4.879\n",
            "\n",
            "EPOCH 72:\tTraining loss: 8.603\tValidation loss: 5.121\n",
            "\n",
            "EPOCH 73:\tTraining loss: 8.228\tValidation loss: 5.395\n",
            "\n",
            "EPOCH 74:\tTraining loss: 8.113\tValidation loss: 4.981\n",
            "\n",
            "EPOCH 75:\tTraining loss: 8.343\tValidation loss: 7.431\n",
            "\n",
            "EPOCH 76:\tTraining loss: 9.307\tValidation loss: 6.010\n",
            "\n",
            "EPOCH 77:\tTraining loss: 8.572\tValidation loss: 5.075\n",
            "\n",
            "EPOCH 78:\tTraining loss: 8.231\tValidation loss: 4.773\n",
            "\n",
            "EPOCH 79:\tTraining loss: 8.529\tValidation loss: 4.781\n",
            "\n",
            "EPOCH 80:\tTraining loss: 8.444\tValidation loss: 4.916\n",
            "\n",
            "EPOCH 81:\tTraining loss: 8.464\tValidation loss: 4.833\n",
            "\n",
            "EPOCH 82:\tTraining loss: 8.320\tValidation loss: 4.678\n",
            "\n",
            "EPOCH 83:\tTraining loss: 8.142\tValidation loss: 7.152\n",
            "\n",
            "EPOCH 84:\tTraining loss: 7.985\tValidation loss: 5.000\n",
            "\n",
            "EPOCH 85:\tTraining loss: 7.864\tValidation loss: 5.364\n",
            "\n",
            "EPOCH 86:\tTraining loss: 7.947\tValidation loss: 5.097\n",
            "\n",
            "EPOCH 87:\tTraining loss: 8.143\tValidation loss: 4.920\n",
            "\n",
            "EPOCH 88:\tTraining loss: 8.099\tValidation loss: 4.879\n",
            "\n",
            "EPOCH 89:\tTraining loss: 7.487\tValidation loss: 5.632\n",
            "\n",
            "EPOCH 90:\tTraining loss: 8.163\tValidation loss: 4.720\n",
            "\n",
            "EPOCH 91:\tTraining loss: 8.009\tValidation loss: 4.756\n",
            "\n",
            "EPOCH 92:\tTraining loss: 8.305\tValidation loss: 4.998\n",
            "\n",
            "EPOCH 93:\tTraining loss: 7.598\tValidation loss: 4.846\n",
            "\n",
            "EPOCH 94:\tTraining loss: 8.218\tValidation loss: 6.254\n",
            "\n",
            "EPOCH 95:\tTraining loss: 8.051\tValidation loss: 6.265\n",
            "\n",
            "EPOCH 96:\tTraining loss: 8.801\tValidation loss: 4.798\n",
            "\n",
            "EPOCH 97:\tTraining loss: 8.007\tValidation loss: 6.913\n",
            "\n",
            "EPOCH 98:\tTraining loss: 8.120\tValidation loss: 5.187\n",
            "\n",
            "EPOCH 99:\tTraining loss: 7.754\tValidation loss: 4.914\n",
            "\n",
            "EPOCH 100:\tTraining loss: 8.120\tValidation loss: 4.886\n"
          ]
        }
      ],
      "source": [
        "epochs = 100\n",
        "train_losses = []\n",
        "val_losses = []\n",
        "train_r2 = []\n",
        "val_r2 = []\n",
        "\n",
        "for epoch in range(epochs):\n",
        "    train_loss = 0.0\n",
        "    train_target = []\n",
        "    val_target = []\n",
        "    train_predict = []\n",
        "    val_predict = []\n",
        "    model.train()\n",
        "    for X_samples, y_samples in train_loader:\n",
        "        X_samples = X_samples.to(device)\n",
        "        y_samples = y_samples.to(device)\n",
        "        optimizer.zero_grad()\n",
        "        outputs = model(X_samples)\n",
        "        train_predict += outputs.tolist()\n",
        "        train_target += y_samples.tolist()\n",
        "        loss = criterion(outputs, y_samples)\n",
        "        loss.backward()\n",
        "        optimizer.step()\n",
        "        train_loss += loss.item()\n",
        "    train_loss /= len(train_loader)\n",
        "    train_losses.append(train_loss)\n",
        "    train_r2.append(r_squared(train_target, train_predict))\n",
        "    model.eval()\n",
        "    val_loss = 0.0\n",
        "    with torch.no_grad():\n",
        "        for X_samples, y_samples in val_loader:\n",
        "            X_samples = X_samples.to(device)\n",
        "            y_samples = y_samples.to(device)\n",
        "            outputs = model(X_samples)\n",
        "            val_predict += outputs.tolist()\n",
        "            val_target += y_samples.tolist()\n",
        "            loss = criterion(outputs, y_samples)\n",
        "            val_loss += loss.item()\n",
        "    val_loss /= len(val_loader)\n",
        "    val_losses.append(val_loss)\n",
        "    val_r2.append(r_squared(val_target, val_predict))\n",
        "    print(f'\\nEPOCH {epoch + 1}:\\tTraining loss: {train_loss:.3f}\\tValidation loss: {val_loss:.3f}')"
      ]
    },
    {
      "cell_type": "code",
      "execution_count": null,
      "metadata": {
        "colab": {
          "base_uri": "https://localhost:8080/",
          "height": 872
        },
        "id": "GBoqX7xMfNxK",
        "outputId": "19c7dd38-3deb-4a24-b336-9e608de15894"
      },
      "outputs": [
        {
          "output_type": "display_data",
          "data": {
            "text/plain": [
              "<Figure size 1200x1000 with 4 Axes>"
            ],
            "image/png": "[encoded data removed]"
          },
          "metadata": {}
        }
      ],
      "source": [
        "fig, ax = plt.subplots(2, 2, figsize=(12, 10))\n",
        "ax[0, 0].plot(train_losses, color='green')\n",
        "ax[0, 0].set(xlabel='Epoch', ylabel='Loss')\n",
        "ax[0, 0].set_title('Training Loss')\n",
        "\n",
        "ax[0, 1].plot(val_losses, color='orange')\n",
        "ax[0, 1].set(xlabel='Epoch', ylabel='Loss')\n",
        "ax[0, 1].set_title('Validation Loss')\n",
        "\n",
        "ax[1, 0].plot(train_r2, color='green')\n",
        "ax[1, 0].set(xlabel='Epoch', ylabel='R2')\n",
        "ax[1, 0].set_title('Training R2')\n",
        "\n",
        "ax[1, 1].plot(val_r2, color='orange')\n",
        "ax[1, 1].set(xlabel='Epoch', ylabel='R2')\n",
        "ax[1, 1].set_title('Validation R2')\n",
        "\n",
        "plt.show()"
      ]
    },
    {
      "cell_type": "markdown",
      "source": [
        "## **7. Evaluation**"
      ],
      "metadata": {
        "id": "Z8sKnabn7Hf6"
      }
    },
    {
      "cell_type": "code",
      "source": [
        "model.eval()\n",
        "with torch.no_grad():\n",
        "    y_hat = model(X_val)\n",
        "    val_set_r2 = r_squared(y_hat, y_val)\n",
        "    print('Evaluation on validation set:')\n",
        "    print(f'R2: {val_set_r2}')"
      ],
      "metadata": {
        "colab": {
          "base_uri": "https://localhost:8080/"
        },
        "id": "D4p8aiMw7JNI",
        "outputId": "9a1076e5-1df4-4e2c-c2f5-571a2f9dd202"
      },
      "execution_count": null,
      "outputs": [
        {
          "output_type": "stream",
          "name": "stdout",
          "text": [
            "Evaluation on validation set:\n",
            "R2: 0.9124371409416199\n"
          ]
        }
      ]
    },
    {
      "cell_type": "code",
      "source": [
        "model.eval()\n",
        "with torch.no_grad():\n",
        "    y_hat = model(X_test)\n",
        "    test_set_r2 = r_squared(y_hat, y_test)\n",
        "    print('Evaluation on test set:')\n",
        "    print(f'R2: {test_set_r2}')"
      ],
      "metadata": {
        "colab": {
          "base_uri": "https://localhost:8080/"
        },
        "id": "36pIeMQO7VpO",
        "outputId": "69a6b20e-f38d-45eb-b027-0661d7cc05fc"
      },
      "execution_count": null,
      "outputs": [
        {
          "output_type": "stream",
          "name": "stdout",
          "text": [
            "Evaluation on test set:\n",
            "R2: 0.8610947728157043\n"
          ]
        }
      ]
    }
  ],
  "metadata": {
    "colab": {
      "provenance": [],
      "include_colab_link": true
    },
    "kernelspec": {
      "display_name": "Python 3",
      "name": "python3"
    },
    "language_info": {
      "codemirror_mode": {
        "name": "ipython",
        "version": 3
      },
      "file_extension": ".py",
      "mimetype": "text/x-python",
      "name": "python",
      "nbconvert_exporter": "python",
      "pygments_lexer": "ipython3",
      "version": "3.10.13"
    }
  },
  "nbformat": 4,
  "nbformat_minor": 0
}